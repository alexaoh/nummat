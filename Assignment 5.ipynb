{
 "cells": [
  {
   "cell_type": "markdown",
   "metadata": {},
   "source": [
    "# TMA4215 - Assignment 5 - From modules 4 and 5\n",
    "\n",
    "**Deadline:** Thursday November 12, 11:59PM\n",
    "\n",
    "**For approval:** Upload a Jupyter Notebook, a pdf-file, or a scan/photo of readable handwriting in Blackboard with all calculations and answers. Answer Control questions in Blackboard.\n",
    "\n",
    "**Problem 1.** (Module 4)\n",
    "We define the function $f:\\mathbb{R}^2\\rightarrow\\mathbb{R}$\n",
    "$$\n",
    "f(x,y) = y^4 + 3y^2 - 4xy - 2y + x^2\n",
    "$$\n",
    "\n",
    "**(a)** Find all the (real) stationary points of $f$ and determine all its local or global minima. Check in particular whether the Hessian is SPD at the stationary point(s).\n",
    "\n",
    "**Control question 1:** How many stationary points are there?\n",
    "\n",
    "***Solution (a):***\n",
    "There is one (real) stationary point of $f$, $x^* = [2,1]^T$. Since the Hessian in $x*$ is semi-positive definite, $x*$ is a local minimizer of $f$. The minimum value of $f$ is $f(2, 1) = -2$. The calculations are done by hand.\n",
    "\n",
    "**(b)** Starting at the point $(x,y) = (0, 0)$, compute one step of the gradient descent method with backtracking (Armijo) line search.\n",
    "\n",
    "$$\n",
    "\\begin{array}{l}\n",
    "\\text{Choose}\\ \\bar{\\alpha}>0, \\rho\\in(0,1)\\ c\\in(0,1);\\ \n",
    "\\text{Set}\\ \\alpha\\rightarrow\\bar{\\alpha}\\\\\n",
    "\\mathbf{repeat}\\ \\text{until} f(x_k+\\alpha p_k)\\leq f(x_k)+c\\alpha\\nabla f_k^Tp_k\\\\\n",
    "\\qquad\\alpha\\rightarrow\\rho\\alpha \\\\\n",
    "\\textbf{end}\n",
    "\\end{array}\n",
    "$$\n",
    "\n",
    "Start with an initial step length $\\bar{\\alpha}=1$, and use the parameters $c = 1/10$ (sufficient decrease parameter) and   $\\rho=1/4$ (contraction factor). The calculations can be done either by hand or by writing a code for it.\n",
    "\n",
    "**Control question 2:** What value of $\\alpha$ is used in this first iteration?\n",
    "\n",
    "***Answer:*** $\\alpha = 0.25$\n",
    "\n",
    "**Control question 3:** What is $(x_1,y_1)$, the next approximation?\n",
    "\n",
    "***Answer:*** $(x_1,y_1) = (0, 0.5)$"
   ]
  },
  {
   "cell_type": "code",
   "execution_count": 36,
   "metadata": {},
   "outputs": [
    {
     "name": "stdout",
     "output_type": "stream",
     "text": [
      "0.25\n",
      "[0.  0.5]\n"
     ]
    }
   ],
   "source": [
    "import numpy as np\n",
    "a_bar = 1\n",
    "c = 1/10\n",
    "rho = 1/4\n",
    "x0 = np.array([0,0])\n",
    "\n",
    "# Since the method is called 'gradient descent', I am defining\n",
    "# p_k = -grad f(xk)\n",
    "\n",
    "def f(x):\n",
    "    return x[1]**4+3*x[1]**2-4*x[0]*x[1]-2*x[1]*x[0]**2\n",
    "\n",
    "def grad_f(x):\n",
    "    return np.array([-4*x[1]+2*x[0], 4*x[1]**3 + 6*x[1] - 4*x[0] - 2])\n",
    "\n",
    "alpha = a_bar\n",
    "p_k = -1*grad_f(x0)\n",
    "y = x0 + alpha*p_k\n",
    "i = 1\n",
    "\n",
    "while f(y) > f(x0) + c*alpha*np.inner(grad_f(x0),p_k):\n",
    "    alpha *= rho # The stepsize shrinks.\n",
    "    y = x0 + alpha*p_k # Take one new step. \n",
    "    \n",
    "    # To check the values after one iteration.\n",
    "    print(alpha)\n",
    "    break\n",
    "xkplus1 = y\n",
    "print(xkplus1)"
   ]
  },
  {
   "cell_type": "markdown",
   "metadata": {},
   "source": [
    "**Problem 2** (Module 5) Find the natural cubic spline $S_3(x)$ on the knots $\\{-1,0,1\\}$ that interpolates the data $S_3(-1)=0, S_3(0)=1, S_3(1)=0$.\n",
    "\n",
    "**Control question 4:** What is $S_3(1/2)$. \n",
    "\n",
    "***Answer:*** 0.6875\n",
    "\n",
    "**Control question 5:** What is $S_3'(1/2)$.\n",
    "\n",
    "***Answer:*** -1.125\n",
    "\n",
    "The natural cubic spline was calculated by hand."
   ]
  },
  {
   "cell_type": "code",
   "execution_count": null,
   "metadata": {},
   "outputs": [],
   "source": []
  }
 ],
 "metadata": {
  "kernelspec": {
   "display_name": "Python 3",
   "language": "python",
   "name": "python3"
  },
  "language_info": {
   "codemirror_mode": {
    "name": "ipython",
    "version": 3
   },
   "file_extension": ".py",
   "mimetype": "text/x-python",
   "name": "python",
   "nbconvert_exporter": "python",
   "pygments_lexer": "ipython3",
   "version": "3.7.6"
  }
 },
 "nbformat": 4,
 "nbformat_minor": 4
}
